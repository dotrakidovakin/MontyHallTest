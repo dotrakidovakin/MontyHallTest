{
 "cells": [
  {
   "cell_type": "code",
   "execution_count": 71,
   "metadata": {},
   "outputs": [
    {
     "data": {
      "image/png": "[encoded data removed]",
      "text/plain": [
       "<Figure size 432x288 with 1 Axes>"
      ]
     },
     "metadata": {
      "needs_background": "light"
     },
     "output_type": "display_data"
    }
   ],
   "source": [
    "# Pour afficher les graphiques dans la continuité du code, \n",
    "# et non pas dans une fenêtre à part:\n",
    "%matplotlib inline\n",
    "\n",
    "# Pour utiliser la fonction randint, qui génère des nombres\n",
    "# entiers de façon aléatoire:\n",
    "from random import randint, seed\n",
    "\n",
    "# Un Enum est une structure de données qui consiste en un \n",
    "# ensemble d'éléments nommés. Une variable de ce type peut\n",
    "# avoir comme valeur un de ces éléments.\n",
    "from enum import Enum\n",
    "\n",
    "# Pour pouvoir afficher des graphiques:\n",
    "import matplotlib.pyplot as plt\n",
    "\n",
    "class Strats(Enum):\n",
    "    GARDER=1\n",
    "    CHANGER=0\n",
    "    \n",
    "seed()\n",
    "\n",
    "'''La fonction si dessus simule une partie du jeu de Monty Hall\n",
    "\n",
    "    Pour ce faire elle reçoit en paramètre un objet strat définissant le comportement du joueur\n",
    "    \n",
    "\n",
    "'''\n",
    "    \n",
    "def jeuMontyHall(strat):\n",
    "    portes = [0, 1, 2]\n",
    "    \n",
    "    bonne_porte = randint(0,2)\n",
    "    \n",
    "    # Choix du joueur\n",
    "    premier_choix = randint(0,2)\n",
    "    \n",
    "    # Il nous reste deux portes\n",
    "    portes.remove(premier_choix)\n",
    "    \n",
    "    # Le présentateur élimine une porte\n",
    "    if premier_choix == bonne_porte:\n",
    "        portes.remove(portes[randint(0,1)])\n",
    "    else:\n",
    "        portes = [bonne_porte]\n",
    "    \n",
    "    deuxieme_choix = 0\n",
    "    # Le deuxieme choix depend de la strategie\n",
    "    if strat == Strats.CHANGER:\n",
    "        deuxieme_choix = portes[0]\n",
    "    elif strat == Strats.GARDER:\n",
    "        deuxieme_choix = premier_choix\n",
    "    else:\n",
    "        raise ValueError(\"Stratégie non reconnue!\")\n",
    "    \n",
    "    return deuxieme_choix == bonne_porte\n",
    "\n",
    "def bouclage(nb,strat):\n",
    "    result=[]\n",
    "    for i in range(nb):\n",
    "        if jeuMontyHall(strat):\n",
    "            result.append(1)\n",
    "        else:\n",
    "            result.append(0)\n",
    "    return result\n",
    "\n",
    "\n",
    "\n",
    "#print(sum(1 if jeuMontyHall(Strats.CHANGER) else 0 for i in range(100000))) #list en compréhension \n",
    "#plot = plt.scatter(range(10), bouclage(10, Strats.CHANGER)) #necessite une liste\n",
    "\n",
    "'''def play(strat, nb_tours):\n",
    "\n",
    "    return [1 if jeuMontyHall(strat) else 0 for i in range(nb_tours)]\n",
    "\n",
    "plot = plt.plot(play(Strats.GARDER, 10))'''\n",
    "\n",
    "plot = plt.bar([1,2],[sum(bouclage(10000, Strats.CHANGER)), \n",
    "               sum(bouclage(10000, Strats.GARDER))], \n",
    "        tick_label=[\"Changer\",\"Garder\"])"
   ]
  }
 ],
 "metadata": {
  "kernelspec": {
   "display_name": "Python 3",
   "language": "python",
   "name": "python3"
  },
  "language_info": {
   "codemirror_mode": {
    "name": "ipython",
    "version": 3
   },
   "file_extension": ".py",
   "mimetype": "text/x-python",
   "name": "python",
   "nbconvert_exporter": "python",
   "pygments_lexer": "ipython3",
   "version": "3.8.5"
  }
 },
 "nbformat": 4,
 "nbformat_minor": 4
}
